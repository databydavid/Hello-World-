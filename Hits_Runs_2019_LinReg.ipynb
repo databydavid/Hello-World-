{
 "cells": [
  {
   "cell_type": "code",
   "execution_count": 18,
   "metadata": {},
   "outputs": [],
   "source": [
    "import pandas as pd\n",
    "import matplotlib.pyplot as plt\n",
    "import statsmodels.api as sm\n",
    "#The goal is to determine and graph the correlation between number of runs and hits for each team in 2019\n",
    
   ]
  },
  {
   "cell_type": "code",
   "execution_count": 19,
   "metadata": {},
   "outputs": [
    {
     "data": {
      "text/html": [
       "<div>\n",
       "<style scoped>\n",
       "    .dataframe tbody tr th:only-of-type {\n",
       "        vertical-align: middle;\n",
       "    }\n",
       "\n",
       "    .dataframe tbody tr th {\n",
       "        vertical-align: top;\n",
       "    }\n",
       "\n",
       "    .dataframe thead th {\n",
       "        text-align: right;\n",
       "    }\n",
       "</style>\n",
       "<table border=\"1\" class=\"dataframe\">\n",
       "  <thead>\n",
       "    <tr style=\"text-align: right;\">\n",
       "      <th></th>\n",
       "      <th>yearID</th>\n",
       "      <th>lgID</th>\n",
       "      <th>teamID</th>\n",
       "      <th>franchID</th>\n",
       "      <th>divID</th>\n",
       "      <th>Rank</th>\n",
       "      <th>G</th>\n",
       "      <th>Ghome</th>\n",
       "      <th>W</th>\n",
       "      <th>L</th>\n",
       "      <th>...</th>\n",
       "      <th>DP</th>\n",
       "      <th>FP</th>\n",
       "      <th>name</th>\n",
       "      <th>park</th>\n",
       "      <th>attendance</th>\n",
       "      <th>BPF</th>\n",
       "      <th>PPF</th>\n",
       "      <th>teamIDBR</th>\n",
       "      <th>teamIDlahman45</th>\n",
       "      <th>teamIDretro</th>\n",
       "    </tr>\n",
       "  </thead>\n",
       "  <tbody>\n",
       "    <tr>\n",
       "      <th>0</th>\n",
       "      <td>2019</td>\n",
       "      <td>NL</td>\n",
       "      <td>ARI</td>\n",
       "      <td>ARI</td>\n",
       "      <td>W</td>\n",
       "      <td>2</td>\n",
       "      <td>162</td>\n",
       "      <td>81</td>\n",
       "      <td>85</td>\n",
       "      <td>77</td>\n",
       "      <td>...</td>\n",
       "      <td>136</td>\n",
       "      <td>0.986</td>\n",
       "      <td>Arizona Diamondbacks</td>\n",
       "      <td>Chase Field</td>\n",
       "      <td>2135510</td>\n",
       "      <td>101</td>\n",
       "      <td>101</td>\n",
       "      <td>ARI</td>\n",
       "      <td>ARI</td>\n",
       "      <td>ARI</td>\n",
       "    </tr>\n",
       "    <tr>\n",
       "      <th>1</th>\n",
       "      <td>2019</td>\n",
       "      <td>NL</td>\n",
       "      <td>ATL</td>\n",
       "      <td>ATL</td>\n",
       "      <td>E</td>\n",
       "      <td>1</td>\n",
       "      <td>162</td>\n",
       "      <td>81</td>\n",
       "      <td>97</td>\n",
       "      <td>65</td>\n",
       "      <td>...</td>\n",
       "      <td>154</td>\n",
       "      <td>0.987</td>\n",
       "      <td>Atlanta Braves</td>\n",
       "      <td>SunTrust Park</td>\n",
       "      <td>2655100</td>\n",
       "      <td>105</td>\n",
       "      <td>103</td>\n",
       "      <td>ATL</td>\n",
       "      <td>ATL</td>\n",
       "      <td>ATL</td>\n",
       "    </tr>\n",
       "    <tr>\n",
       "      <th>2</th>\n",
       "      <td>2019</td>\n",
       "      <td>AL</td>\n",
       "      <td>BAL</td>\n",
       "      <td>BAL</td>\n",
       "      <td>E</td>\n",
       "      <td>5</td>\n",
       "      <td>162</td>\n",
       "      <td>81</td>\n",
       "      <td>54</td>\n",
       "      <td>108</td>\n",
       "      <td>...</td>\n",
       "      <td>155</td>\n",
       "      <td>0.982</td>\n",
       "      <td>Baltimore Orioles</td>\n",
       "      <td>Oriole Park at Camden Yards</td>\n",
       "      <td>1307807</td>\n",
       "      <td>99</td>\n",
       "      <td>102</td>\n",
       "      <td>BAL</td>\n",
       "      <td>BAL</td>\n",
       "      <td>BAL</td>\n",
       "    </tr>\n",
       "    <tr>\n",
       "      <th>3</th>\n",
       "      <td>2019</td>\n",
       "      <td>AL</td>\n",
       "      <td>BOS</td>\n",
       "      <td>BOS</td>\n",
       "      <td>E</td>\n",
       "      <td>3</td>\n",
       "      <td>162</td>\n",
       "      <td>81</td>\n",
       "      <td>84</td>\n",
       "      <td>78</td>\n",
       "      <td>...</td>\n",
       "      <td>115</td>\n",
       "      <td>0.985</td>\n",
       "      <td>Boston Red Sox</td>\n",
       "      <td>Fenway Park II</td>\n",
       "      <td>2924627</td>\n",
       "      <td>105</td>\n",
       "      <td>104</td>\n",
       "      <td>BOS</td>\n",
       "      <td>BOS</td>\n",
       "      <td>BOS</td>\n",
       "    </tr>\n",
       "    <tr>\n",
       "      <th>4</th>\n",
       "      <td>2019</td>\n",
       "      <td>AL</td>\n",
       "      <td>CHA</td>\n",
       "      <td>CHW</td>\n",
       "      <td>C</td>\n",
       "      <td>3</td>\n",
       "      <td>161</td>\n",
       "      <td>80</td>\n",
       "      <td>72</td>\n",
       "      <td>89</td>\n",
       "      <td>...</td>\n",
       "      <td>171</td>\n",
       "      <td>0.980</td>\n",
       "      <td>Chicago White Sox</td>\n",
       "      <td>Guaranteed Rate Field</td>\n",
       "      <td>1649775</td>\n",
       "      <td>97</td>\n",
       "      <td>99</td>\n",
       "      <td>CHW</td>\n",
       "      <td>CHA</td>\n",
       "      <td>CHA</td>\n",
       "    </tr>\n",
       "  </tbody>\n",
       "</table>\n",
       "<p>5 rows × 48 columns</p>\n",
       "</div>"
      ],
      "text/plain": [
       "   yearID lgID teamID franchID divID  Rank    G  Ghome   W    L  ...   DP  \\\n",
       "0    2019   NL    ARI      ARI     W     2  162     81  85   77  ...  136   \n",
       "1    2019   NL    ATL      ATL     E     1  162     81  97   65  ...  154   \n",
       "2    2019   AL    BAL      BAL     E     5  162     81  54  108  ...  155   \n",
       "3    2019   AL    BOS      BOS     E     3  162     81  84   78  ...  115   \n",
       "4    2019   AL    CHA      CHW     C     3  161     80  72   89  ...  171   \n",
       "\n",
       "      FP                  name                         park  attendance  BPF  \\\n",
       "0  0.986  Arizona Diamondbacks                  Chase Field     2135510  101   \n",
       "1  0.987        Atlanta Braves                SunTrust Park     2655100  105   \n",
       "2  0.982     Baltimore Orioles  Oriole Park at Camden Yards     1307807   99   \n",
       "3  0.985        Boston Red Sox               Fenway Park II     2924627  105   \n",
       "4  0.980     Chicago White Sox        Guaranteed Rate Field     1649775   97   \n",
       "\n",
       "   PPF  teamIDBR  teamIDlahman45  teamIDretro  \n",
       "0  101       ARI             ARI          ARI  \n",
       "1  103       ATL             ATL          ATL  \n",
       "2  102       BAL             BAL          BAL  \n",
       "3  104       BOS             BOS          BOS  \n",
       "4   99       CHW             CHA          CHA  \n",
       "\n",
       "[5 rows x 48 columns]"
      ]
     },
     "execution_count": 19,
     "metadata": {},
     "output_type": "execute_result"
    }
   ],
   "source": [
    "raw_data = pd.read_csv('2019Teams.csv')\n",
    "raw_data.head()"
   ]
  },
  {
   "cell_type": "code",
   "execution_count": 20,
   "metadata": {},
   "outputs": [
    {
     "data": {
      "text/plain": [
       "Text(0, 0.5, 'Runs')"
      ]
     },
     "execution_count": 20,
     "metadata": {},
     "output_type": "execute_result"
    },
    {
     "data": {
      "image/png": "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\n",
      "text/plain": [
       "<Figure size 432x288 with 1 Axes>"
      ]
     },
     "metadata": {
      "needs_background": "light"
     },
     "output_type": "display_data"
    }
   ],
   "source": [
    "runs = raw_data['R']\n",
    "hits = raw_data['H']\n",
    "\n",
    "plt.scatter(hits, runs)\n",
    "plt.xlabel('Hits', fontsize = 20)\n",
    "plt.ylabel('Runs', fontsize = 20)"
   ]
  },
  {
   "cell_type": "code",
   "execution_count": 21,
   "metadata": {},
   "outputs": [],
   "source": [
    "x = sm.add_constant(hits)"
   ]
  },
  {
   "cell_type": "code",
   "execution_count": 23,
   "metadata": {},
   "outputs": [],
   "source": [
    "results = sm.OLS(runs,x).fit()"
   ]
  },
  {
   "cell_type": "code",
   "execution_count": 24,
   "metadata": {},
   "outputs": [
    {
     "data": {
      "text/html": [
       "<table class=\"simpletable\">\n",
       "<caption>OLS Regression Results</caption>\n",
       "<tr>\n",
       "  <th>Dep. Variable:</th>            <td>R</td>        <th>  R-squared:         </th> <td>   0.561</td>\n",
       "</tr>\n",
       "<tr>\n",
       "  <th>Model:</th>                   <td>OLS</td>       <th>  Adj. R-squared:    </th> <td>   0.546</td>\n",
       "</tr>\n",
       "<tr>\n",
       "  <th>Method:</th>             <td>Least Squares</td>  <th>  F-statistic:       </th> <td>   35.81</td>\n",
       "</tr>\n",
       "<tr>\n",
       "  <th>Date:</th>             <td>Sat, 28 Nov 2020</td> <th>  Prob (F-statistic):</th> <td>1.91e-06</td>\n",
       "</tr>\n",
       "<tr>\n",
       "  <th>Time:</th>                 <td>15:57:15</td>     <th>  Log-Likelihood:    </th> <td> -164.71</td>\n",
       "</tr>\n",
       "<tr>\n",
       "  <th>No. Observations:</th>      <td>    30</td>      <th>  AIC:               </th> <td>   333.4</td>\n",
       "</tr>\n",
       "<tr>\n",
       "  <th>Df Residuals:</th>          <td>    28</td>      <th>  BIC:               </th> <td>   336.2</td>\n",
       "</tr>\n",
       "<tr>\n",
       "  <th>Df Model:</th>              <td>     1</td>      <th>                     </th>     <td> </td>   \n",
       "</tr>\n",
       "<tr>\n",
       "  <th>Covariance Type:</th>      <td>nonrobust</td>    <th>                     </th>     <td> </td>   \n",
       "</tr>\n",
       "</table>\n",
       "<table class=\"simpletable\">\n",
       "<tr>\n",
       "    <td></td>       <th>coef</th>     <th>std err</th>      <th>t</th>      <th>P>|t|</th>  <th>[0.025</th>    <th>0.975]</th>  \n",
       "</tr>\n",
       "<tr>\n",
       "  <th>const</th> <td> -456.1305</td> <td>  207.246</td> <td>   -2.201</td> <td> 0.036</td> <td> -880.655</td> <td>  -31.605</td>\n",
       "</tr>\n",
       "<tr>\n",
       "  <th>H</th>     <td>    0.8837</td> <td>    0.148</td> <td>    5.984</td> <td> 0.000</td> <td>    0.581</td> <td>    1.186</td>\n",
       "</tr>\n",
       "</table>\n",
       "<table class=\"simpletable\">\n",
       "<tr>\n",
       "  <th>Omnibus:</th>       <td> 2.972</td> <th>  Durbin-Watson:     </th> <td>   2.423</td>\n",
       "</tr>\n",
       "<tr>\n",
       "  <th>Prob(Omnibus):</th> <td> 0.226</td> <th>  Jarque-Bera (JB):  </th> <td>   2.457</td>\n",
       "</tr>\n",
       "<tr>\n",
       "  <th>Skew:</th>          <td>-0.692</td> <th>  Prob(JB):          </th> <td>   0.293</td>\n",
       "</tr>\n",
       "<tr>\n",
       "  <th>Kurtosis:</th>      <td> 2.780</td> <th>  Cond. No.          </th> <td>2.62e+04</td>\n",
       "</tr>\n",
       "</table><br/><br/>Warnings:<br/>[1] Standard Errors assume that the covariance matrix of the errors is correctly specified.<br/>[2] The condition number is large, 2.62e+04. This might indicate that there are<br/>strong multicollinearity or other numerical problems."
      ],
      "text/plain": [
       "<class 'statsmodels.iolib.summary.Summary'>\n",
       "\"\"\"\n",
       "                            OLS Regression Results                            \n",
       "==============================================================================\n",
       "Dep. Variable:                      R   R-squared:                       0.561\n",
       "Model:                            OLS   Adj. R-squared:                  0.546\n",
       "Method:                 Least Squares   F-statistic:                     35.81\n",
       "Date:                Sat, 28 Nov 2020   Prob (F-statistic):           1.91e-06\n",
       "Time:                        15:57:15   Log-Likelihood:                -164.71\n",
       "No. Observations:                  30   AIC:                             333.4\n",
       "Df Residuals:                      28   BIC:                             336.2\n",
       "Df Model:                           1                                         \n",
       "Covariance Type:            nonrobust                                         \n",
       "==============================================================================\n",
       "                 coef    std err          t      P>|t|      [0.025      0.975]\n",
       "------------------------------------------------------------------------------\n",
       "const       -456.1305    207.246     -2.201      0.036    -880.655     -31.605\n",
       "H              0.8837      0.148      5.984      0.000       0.581       1.186\n",
       "==============================================================================\n",
       "Omnibus:                        2.972   Durbin-Watson:                   2.423\n",
       "Prob(Omnibus):                  0.226   Jarque-Bera (JB):                2.457\n",
       "Skew:                          -0.692   Prob(JB):                        0.293\n",
       "Kurtosis:                       2.780   Cond. No.                     2.62e+04\n",
       "==============================================================================\n",
       "\n",
       "Warnings:\n",
       "[1] Standard Errors assume that the covariance matrix of the errors is correctly specified.\n",
       "[2] The condition number is large, 2.62e+04. This might indicate that there are\n",
       "strong multicollinearity or other numerical problems.\n",
       "\"\"\""
      ]
     },
     "execution_count": 24,
     "metadata": {},
     "output_type": "execute_result"
    }
   ],
   "source": [
    "results.summary()"
   ]
  },
  {
   "cell_type": "code",
   "execution_count": 27,
   "metadata": {},
   "outputs": [
    {
     "data": {
      "image/png": "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\n",
      "text/plain": [
       "<Figure size 432x288 with 1 Axes>"
      ]
     },
     "metadata": {
      "needs_background": "light"
     },
     "output_type": "display_data"
    }
   ],
   "source": [
    "plt.scatter(hits,runs)\n",
    "y_hat = -456.1305 + 0.8837*hits\n",
    "plt.xlabel('Hits', fontsize = 20)\n",
    "plt.ylabel('Runs', fontsize = 20)\n",
    "\n",
    "fig = plt.plot(hits,y_hat, lw = 3, color = 'purple')"
   ]
  },
  {
   "cell_type": "code",
   "execution_count": null,
   "metadata": {},
   "outputs": [],
   "source": []
  },
  {
   "cell_type": "code",
   "execution_count": null,
   "metadata": {},
   "outputs": [],
   "source": []
  },
  {
   "cell_type": "code",
   "execution_count": null,
   "metadata": {},
   "outputs": [],
   "source": []
  },
  {
   "cell_type": "code",
   "execution_count": null,
   "metadata": {},
   "outputs": [],
   "source": []
  }
 ],
 "metadata": {
  "kernelspec": {
   "display_name": "Python 3",
   "language": "python",
   "name": "python3"
  },
  "language_info": {
   "codemirror_mode": {
    "name": "ipython",
    "version": 3
   },
   "file_extension": ".py",
   "mimetype": "text/x-python",
   "name": "python",
   "nbconvert_exporter": "python",
   "pygments_lexer": "ipython3",
   "version": "3.8.3"
  }
 },
 "nbformat": 4,
 "nbformat_minor": 4
}
